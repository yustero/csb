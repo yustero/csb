{
 "cells": [
  {
   "cell_type": "code",
   "execution_count": null,
   "metadata": {},
   "outputs": [],
   "source": []
  },
  {
   "cell_type": "code",
   "execution_count": 1,
   "metadata": {},
   "outputs": [
    {
     "name": "stdout",
     "output_type": "stream",
     "text": [
      "4\n"
     ]
    }
   ],
   "source": [
    "import multi_state_scratch"
   ]
  },
  {
   "cell_type": "code",
   "execution_count": null,
   "metadata": {},
   "outputs": [],
   "source": [
    "'''\n",
    "There are some catches about the simulations. \n",
    "\n",
    "In the turn off formalism we allow 0 to be a state therefore the initial conditions should also have 0 in it. \n",
    "Since more the number of states, more the total states so we're looking at odd number of states. \n",
    "\n",
    "Have to make a call on what initial inputs to use. \n",
    "\n",
    "\n",
    "'''"
   ]
  },
  {
   "cell_type": "code",
   "execution_count": null,
   "metadata": {},
   "outputs": [],
   "source": [
    "'''#What all do I want to do\n",
    "\n",
    "- Now we sort of kind of know that using the turn off formalism on noisy nodes with impure connections reduces the hybrid states of what sort? I guess the ones with less influence. \n",
    "- Now look at hybrid states on the basis of drive sum and classify them into two kinds that kind of gives zeroth order basin depth. How to get higher orders???\n",
    "- What does it mean to develop stuff from three state to four state?\n",
    "- Hybrid states which dissapear? are the significant hybrid states obtained via boolean are the hybrids having most influence   \n",
    "\n",
    "'''"
   ]
  }
 ],
 "metadata": {
  "kernelspec": {
   "display_name": "Python 3.8.10 64-bit",
   "language": "python",
   "name": "python3"
  },
  "language_info": {
   "codemirror_mode": {
    "name": "ipython",
    "version": 3
   },
   "file_extension": ".py",
   "mimetype": "text/x-python",
   "name": "python",
   "nbconvert_exporter": "python",
   "pygments_lexer": "ipython3",
   "version": "3.8.10"
  },
  "orig_nbformat": 4,
  "vscode": {
   "interpreter": {
    "hash": "916dbcbb3f70747c44a77c7bcd40155683ae19c65e1c03b4aa3499c5328201f1"
   }
  }
 },
 "nbformat": 4,
 "nbformat_minor": 2
}
