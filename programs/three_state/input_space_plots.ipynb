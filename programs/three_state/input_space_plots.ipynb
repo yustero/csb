{
 "cells": [
  {
   "cell_type": "code",
   "execution_count": 2,
   "id": "a0981a71",
   "metadata": {},
   "outputs": [],
   "source": [
    "import boolean_siml\n",
    "import coherent_parser\n",
    "import node_metrics\n",
    "import three_states_sim\n",
    "import matplotlib.pyplot as plt \n",
    "import random\n",
    "import numpy as np \n",
    "import topopath\n",
    "import hybrid_states\n",
    "import input_space_map as ins\n"
   ]
  },
  {
   "cell_type": "code",
   "execution_count": 8,
   "id": "67f1587d",
   "metadata": {},
   "outputs": [
    {
     "name": "stdout",
     "output_type": "stream",
     "text": [
      "EMT_RACIPE.topo\n"
     ]
    }
   ],
   "source": [
    "i=2\n",
    "data=coherent_parser.clustered_matrix_file(topopath.topofiles[i])\n",
    "adj=data[0]\n",
    "t1=len(data[1])\n",
    "t2=len(data[2])\n",
    "nodes=data[-1]\n",
    "print(topopath.topofiles[i])"
   ]
  },
  {
   "cell_type": "code",
   "execution_count": 5,
   "id": "d0d57e36",
   "metadata": {},
   "outputs": [
    {
     "name": "stdout",
     "output_type": "stream",
     "text": [
      "Number of nodes: 15\n",
      "Number of edges: 60\n",
      "Number of positive edges: 28\n",
      "Number of negative edges: 32\n"
     ]
    }
   ],
   "source": [
    "network_data=node_metrics.adj_summary(adj)\n",
    "print(\"Number of nodes:\", network_data[0])\n",
    "print(\"Number of edges:\", network_data[1])\n",
    "print(\"Number of positive edges:\", network_data[2])\n",
    "print(\"Number of negative edges:\", network_data[3])"
   ]
  },
  {
   "cell_type": "code",
   "execution_count": 12,
   "id": "2d367b05",
   "metadata": {},
   "outputs": [
    {
     "name": "stdout",
     "output_type": "stream",
     "text": [
      "Node: FOXC2 Indegree: 3 InPositiveEdges: 3 InNegativeEdges: 0 StaticIncan: 3\n",
      "Node: ZEB1 Indegree: 12 InPositiveEdges: 6 InNegativeEdges: 6 StaticIncan: 0\n",
      "Node: ZEB2 Indegree: 10 InPositiveEdges: 5 InNegativeEdges: 5 StaticIncan: 0\n",
      "Node: SNAI1 Indegree: 7 InPositiveEdges: 4 InNegativeEdges: 3 StaticIncan: 1\n",
      "Node: TGFbeta Indegree: 4 InPositiveEdges: 0 InNegativeEdges: 4 StaticIncan: 4\n",
      "Node: SNAI2 Indegree: 6 InPositiveEdges: 5 InNegativeEdges: 1 StaticIncan: 4\n",
      "Node: TWIST2 Indegree: 2 InPositiveEdges: 1 InNegativeEdges: 1 StaticIncan: 0\n",
      "Node: TWIST1 Indegree: 3 InPositiveEdges: 3 InNegativeEdges: 0 StaticIncan: 3\n",
      "Node: GSC Indegree: 1 InPositiveEdges: 1 InNegativeEdges: 0 StaticIncan: 1\n",
      "Node: miR101 Indegree: 2 InPositiveEdges: 0 InNegativeEdges: 2 StaticIncan: 2\n",
      "Node: miR141 Indegree: 1 InPositiveEdges: 0 InNegativeEdges: 1 StaticIncan: 1\n",
      "Node: miR200a Indegree: 2 InPositiveEdges: 0 InNegativeEdges: 2 StaticIncan: 2\n",
      "Node: miR200b Indegree: 3 InPositiveEdges: 0 InNegativeEdges: 3 StaticIncan: 3\n",
      "Node: miR200c Indegree: 2 InPositiveEdges: 0 InNegativeEdges: 2 StaticIncan: 2\n",
      "Node: miR34a Indegree: 2 InPositiveEdges: 0 InNegativeEdges: 2 StaticIncan: 2\n"
     ]
    }
   ],
   "source": [
    "#Node data\n",
    "indata= node_metrics.indeg_summary(adj)\n",
    "outdata=node_metrics.outdeg_summary(adj)\n",
    "n=len(adj)\n",
    "\n",
    "for i in range(0,n):\n",
    "    print(\"Node:\" , nodes[i], \"Indegree:\", indata[3][i], \"InPositiveEdges:\", indata[1][i],\"InNegativeEdges:\", indata[2][i], \"StaticIncan:\", indata[0][i] )\n"
   ]
  },
  {
   "cell_type": "code",
   "execution_count": 11,
   "id": "3737b35e",
   "metadata": {},
   "outputs": [
    {
     "name": "stdout",
     "output_type": "stream",
     "text": [
      "[-3, -12, -10, -5, -4, -6, -2, -3, -1, 2, 1, 2, 3, 2, 2] [-1, -1, -1, -1, -1, -1, -1, -1, -1, 1, 1, 1, 1, 1, 1]\n",
      "[3, 12, 10, 5, 4, 6, 2, 3, 1, -2, -1, -2, -3, -2, -2] [1, 1, 1, 1, 1, 1, 1, 1, 1, -1, -1, -1, -1, -1, -1]\n",
      "[-1, 0, 2, -1, 4, -4, -2, -1, 1, 2, -1, -2, -1, -2, 0] [-1, 1, 1, -1, 1, -1, -1, -1, 1, 1, -1, -1, -1, -1, 1]\n",
      "[1, 0, -2, 1, -4, 4, 2, 1, -1, -2, 1, 2, 1, 2, 0] [1, -1, -1, 1, -1, 1, 1, 1, -1, -1, 1, 1, 1, 1, -1]\n"
     ]
    }
   ],
   "source": [
    "#Steady state incan values \n",
    "steadys=boolean_siml.steady_states(adj,100)\n",
    "ssf = boolean_siml.steady_state_frequency(steadys,adj)\n",
    "for i in ssf[0]:\n",
    "    print(node_metrics.state_node_sum(adj,i), i)"
   ]
  },
  {
   "cell_type": "code",
   "execution_count": 10,
   "id": "ca421b3b",
   "metadata": {},
   "outputs": [
    {
     "name": "stdout",
     "output_type": "stream",
     "text": [
      "144\n"
     ]
    }
   ],
   "source": [
    "dist= ins.overtime_incan(adj,1000)\n"
   ]
  },
  {
   "cell_type": "code",
   "execution_count": null,
   "id": "a270eada",
   "metadata": {},
   "outputs": [],
   "source": []
  },
  {
   "cell_type": "code",
   "execution_count": null,
   "id": "e24a9819",
   "metadata": {},
   "outputs": [],
   "source": []
  },
  {
   "cell_type": "code",
   "execution_count": null,
   "id": "a2ad4e30",
   "metadata": {},
   "outputs": [],
   "source": [
    "#EMT_RACIPE2.topo"
   ]
  },
  {
   "cell_type": "code",
   "execution_count": 28,
   "id": "47ac037e",
   "metadata": {},
   "outputs": [
    {
     "name": "stdout",
     "output_type": "stream",
     "text": [
      "EMT_RACIPE2.topo\n",
      "23\n"
     ]
    }
   ],
   "source": [
    "i=0\n",
    "data2=coherent_parser.clustered_matrix_file(topopath.topofiles[i])\n",
    "adj2=data2[0]\n",
    "t1_2=len(data2[1])\n",
    "t2_2=len(data2[2])\n",
    "nodes2=data2[-1]\n",
    "print(topopath.topofiles[i])\n"
   ]
  },
  {
   "cell_type": "code",
   "execution_count": 29,
   "id": "ccf74eaf",
   "metadata": {},
   "outputs": [
    {
     "name": "stdout",
     "output_type": "stream",
     "text": [
      "Number of nodes: 23\n",
      "Number of edges: 89\n",
      "Number of positive edges: 36\n",
      "Number of negative edges: 53\n"
     ]
    }
   ],
   "source": [
    "network_data=node_metrics.adj_summary(adj2)\n",
    "print(\"Number of nodes:\", network_data[0])\n",
    "print(\"Number of edges:\", network_data[1])\n",
    "print(\"Number of positive edges:\", network_data[2])\n",
    "print(\"Number of negative edges:\", network_data[3])"
   ]
  },
  {
   "cell_type": "code",
   "execution_count": 30,
   "id": "ae46fa33",
   "metadata": {},
   "outputs": [
    {
     "name": "stdout",
     "output_type": "stream",
     "text": [
      "Node: FOXC2 Indegree: 3 InPositiveEdges: 3 InNegativeEdges: 0 StaticIncan: 3\n",
      "Node: ZEB1 Indegree: 15 InPositiveEdges: 6 InNegativeEdges: 9 StaticIncan: 3\n",
      "Node: KLF8 Indegree: 1 InPositiveEdges: 0 InNegativeEdges: 1 StaticIncan: 1\n",
      "Node: ZEB2 Indegree: 11 InPositiveEdges: 5 InNegativeEdges: 6 StaticIncan: 1\n",
      "Node: SNAI1 Indegree: 7 InPositiveEdges: 4 InNegativeEdges: 3 StaticIncan: 1\n",
      "Node: TGFbeta Indegree: 5 InPositiveEdges: 0 InNegativeEdges: 5 StaticIncan: 5\n",
      "Node: SNAI2 Indegree: 9 InPositiveEdges: 6 InNegativeEdges: 3 StaticIncan: 3\n",
      "Node: TWIST2 Indegree: 2 InPositiveEdges: 1 InNegativeEdges: 1 StaticIncan: 0\n",
      "Node: TWIST1 Indegree: 3 InPositiveEdges: 3 InNegativeEdges: 0 StaticIncan: 3\n",
      "Node: TCF3 Indegree: 1 InPositiveEdges: 1 InNegativeEdges: 0 StaticIncan: 1\n",
      "Node: GSC Indegree: 1 InPositiveEdges: 1 InNegativeEdges: 0 StaticIncan: 1\n",
      "Node: CDH1 Indegree: 10 InPositiveEdges: 2 InNegativeEdges: 8 StaticIncan: 6\n",
      "Node: miR101 Indegree: 2 InPositiveEdges: 0 InNegativeEdges: 2 StaticIncan: 2\n",
      "Node: miR141 Indegree: 1 InPositiveEdges: 0 InNegativeEdges: 1 StaticIncan: 1\n",
      "Node: miR200a Indegree: 2 InPositiveEdges: 0 InNegativeEdges: 2 StaticIncan: 2\n",
      "Node: miR200b Indegree: 3 InPositiveEdges: 0 InNegativeEdges: 3 StaticIncan: 3\n",
      "Node: miR200c Indegree: 2 InPositiveEdges: 0 InNegativeEdges: 2 StaticIncan: 2\n",
      "Node: miR205 Indegree: 1 InPositiveEdges: 1 InNegativeEdges: 0 StaticIncan: 1\n",
      "Node: miR34a Indegree: 2 InPositiveEdges: 0 InNegativeEdges: 2 StaticIncan: 2\n",
      "Node: OVOL2 Indegree: 3 InPositiveEdges: 1 InNegativeEdges: 2 StaticIncan: 1\n",
      "Node: GRHL2 Indegree: 2 InPositiveEdges: 1 InNegativeEdges: 1 StaticIncan: 0\n",
      "Node: NP63 Indegree: 2 InPositiveEdges: 1 InNegativeEdges: 1 StaticIncan: 0\n",
      "Node: CLDN7 Indegree: 1 InPositiveEdges: 0 InNegativeEdges: 1 StaticIncan: 1\n"
     ]
    }
   ],
   "source": [
    "#Node data\n",
    "indata2= node_metrics.indeg_summary(adj2)\n",
    "outdata2=node_metrics.outdeg_summary(adj2)\n",
    "n=len(adj2)\n",
    "\n",
    "for i in range(0,n):\n",
    "    print(\"Node:\" , nodes2[i], \"Indegree:\", indata2[3][i], \"InPositiveEdges:\", indata2[1][i],\"InNegativeEdges:\", indata2[2][i], \"StaticIncan:\", indata2[0][i] )\n"
   ]
  },
  {
   "cell_type": "code",
   "execution_count": 32,
   "id": "1b338354",
   "metadata": {},
   "outputs": [
    {
     "name": "stdout",
     "output_type": "stream",
     "text": [
      "[-3, -13, -1, -9, -5, -5, -9, -2, -3, -1, -1, 10, 2, 1, 2, 3, 2, -1, 2, 1, 0, 0, 1]\n",
      "[-3, -15, -1, -11, -5, -5, -7, -2, -3, -1, -1, 10, 2, 1, 2, 3, 2, 1, 2, 1, 2, 0, 1]\n",
      "[3, 15, 1, 11, 5, 5, 7, 2, 3, 1, 1, -10, -2, -1, -2, -3, -2, -1, -2, -1, -2, 0, -1]\n",
      "[3, 13, 1, 9, 5, 5, 9, 2, 3, 1, 1, -10, -2, -1, -2, -3, -2, 1, -2, -1, 0, 0, -1]\n",
      "[-1, 3, -1, 3, -1, 5, -5, -2, -1, -1, 1, 2, 2, -1, -2, -1, -2, -1, 0, -1, -2, 0, -1]\n",
      "[1, -1, 1, -1, 1, -5, 3, 2, 1, 1, -1, -2, -2, 1, 2, 1, 2, -1, 0, 1, 0, 0, 1]\n"
     ]
    }
   ],
   "source": [
    "#Steady state incan values \n",
    "steadys=boolean_siml.steady_states(adj2,100)\n",
    "ssf = boolean_siml.steady_state_frequency(steadys,adj2)\n",
    "for i in ssf[0]:\n",
    "    print(node_metrics.state_node_sum(adj2,i))"
   ]
  },
  {
   "cell_type": "code",
   "execution_count": 36,
   "id": "e1644a91",
   "metadata": {},
   "outputs": [
    {
     "name": "stdout",
     "output_type": "stream",
     "text": [
      "GON.topo\n",
      "[2, 2, 1, 8, 7, 5, 6, 4, 2, 1, 4, 2, 3, -3, -5, -4, -3, -4] []\n",
      "[0, 0, 1, -6, -7, -5, -2, -2, -2, -1, -2, -2, -3, 3, 5, 4, 5, 4] [0, 1]\n",
      "[2, 2, 1, 6, -1, 3, 6, 4, 0, -1, 4, 0, -1, -3, -3, -2, -1, 0] [8, 11, 17]\n",
      "[0, 0, -1, 8, 7, 5, 4, 2, 2, 1, 2, 2, 3, -3, -5, -4, -3, -4] [0, 1]\n",
      "[0, 0, -1, 4, 3, 1, -2, -2, 0, 1, 0, 2, 3, -1, -3, 0, 1, -2] [0, 1, 8, 10, 15]\n",
      "[-2, -2, -1, -8, -7, -5, -6, -4, -2, -1, -4, -2, -3, 3, 5, 4, 3, 4] []\n",
      "[2, 2, 1, 0, -5, -3, 0, -2, -2, -1, 0, 0, -1, 1, 3, 4, 5, 4] [3, 6, 10, 11]\n",
      "[0, -2, -1, 2, 7, 3, 0, 2, 2, 1, 0, 2, 3, -3, -5, -6, -5, -4] [0, 6, 10]\n",
      "[0, 0, -1, 6, 7, 5, 2, 2, 2, 1, 2, 2, 3, -3, -5, -4, -5, -4] [0, 1]\n",
      "[0, 0, 1, -8, -7, -5, -4, -2, -2, -1, -2, -2, -3, 3, 5, 4, 3, 4] [0, 1]\n",
      "[0, 2, 1, -4, -7, -3, 0, -2, -2, -1, 0, -2, -3, 3, 5, 6, 5, 4] [0, 6, 10]\n",
      "[0, -2, -1, 0, -1, 1, 0, 2, 0, -1, 0, 0, -1, -3, -3, -4, -3, 0] [0, 3, 6, 8, 10, 11, 17]\n",
      "[0, 0, 1, 0, -3, 1, 2, 4, 0, -1, 2, -2, -3, -1, -1, -2, -3, 0] [0, 1, 3, 8, 17]\n",
      "[-2, -2, -1, -2, -3, 1, 0, 2, 0, -1, 0, -2, -3, -1, -1, -2, -3, 0] [6, 8, 10, 17]\n",
      "[0, 2, 1, -2, -7, -3, 0, -2, -2, -1, 0, -2, -3, 3, 5, 6, 5, 4] [0, 6, 10]\n"
     ]
    }
   ],
   "source": [
    "i=-1\n",
    "data=coherent_parser.clustered_matrix_file(topopath.topofiles[i])\n",
    "adj=data[0]\n",
    "t1=len(data[1])\n",
    "t2=len(data[2])\n",
    "nodes=data[-1]\n",
    "print(topopath.topofiles[i])\n",
    "steadys=boolean_siml.steady_states(adj,100)\n",
    "ssf = boolean_siml.steady_state_frequency(steadys,adj)\n",
    "for i in ssf[0]:\n",
    "    k=node_metrics.state_node_sum(adj,i)\n",
    "    zero_nodes=[]\n",
    "    n=len(k)\n",
    "    for j in range(0,n) : \n",
    "        if k[j] ==0:\n",
    "            zero_nodes.append(j)\n",
    "    print(k,zero_nodes)"
   ]
  },
  {
   "cell_type": "code",
   "execution_count": null,
   "id": "e1b65924",
   "metadata": {},
   "outputs": [],
   "source": []
  },
  {
   "cell_type": "code",
   "execution_count": null,
   "id": "f9b65c84",
   "metadata": {},
   "outputs": [],
   "source": []
  }
 ],
 "metadata": {
  "kernelspec": {
   "display_name": "Python 3.8.10 64-bit",
   "language": "python",
   "name": "python3"
  },
  "language_info": {
   "codemirror_mode": {
    "name": "ipython",
    "version": 3
   },
   "file_extension": ".py",
   "mimetype": "text/x-python",
   "name": "python",
   "nbconvert_exporter": "python",
   "pygments_lexer": "ipython3",
   "version": "3.8.10"
  },
  "vscode": {
   "interpreter": {
    "hash": "916dbcbb3f70747c44a77c7bcd40155683ae19c65e1c03b4aa3499c5328201f1"
   }
  }
 },
 "nbformat": 4,
 "nbformat_minor": 5
}
